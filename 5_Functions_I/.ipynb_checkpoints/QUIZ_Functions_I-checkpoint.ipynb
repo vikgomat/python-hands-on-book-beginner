{
 "cells": [
  {
   "cell_type": "markdown",
   "id": "ethical-measurement",
   "metadata": {},
   "source": [
    "## QUIZ - Functions I"
   ]
  },
  {
   "cell_type": "markdown",
   "id": "possible-inventory",
   "metadata": {},
   "source": [
    "**Q 1:**\n",
    "\n",
    "Define a function named **first_function** that prints \"Hello World!\"."
   ]
  },
  {
   "cell_type": "code",
   "execution_count": 3,
   "id": "suitable-appraisal",
   "metadata": {},
   "outputs": [
    {
     "name": "stdout",
     "output_type": "stream",
     "text": [
      "Hello World!\n"
     ]
    }
   ],
   "source": [
    "# Q 1:\n",
    "\n",
    "# --- your solution here --- #    \n",
    "    \n",
    "# call the function you defined\n",
    "def first_function():\n",
    "    print(\"Hello World!\")\n",
    "    \n",
    "first_function();"
   ]
  },
  {
   "cell_type": "markdown",
   "id": "aging-deadline",
   "metadata": {},
   "source": [
    "---"
   ]
  },
  {
   "cell_type": "markdown",
   "id": "ignored-rider",
   "metadata": {},
   "source": [
    "**Q 2:**\n",
    "\n",
    "Define a function named **say_hello** that takes two string parameters.\n",
    "\n",
    "We will assume this parameters be two separate names. (name_1 and name_2)\n",
    "\n",
    "Function will concatenate these names with \"and\".\n",
    "\n",
    "Then it will print as:\n",
    "\n",
    "\"Hello name_1 and name_2.\"\n",
    "\n",
    "Example: Hello Clark Kent and Superman."
   ]
  },
  {
   "cell_type": "code",
   "execution_count": 6,
   "id": "banned-sailing",
   "metadata": {},
   "outputs": [
    {
     "name": "stdout",
     "output_type": "stream",
     "text": [
      "HelloClark Kent and Superman\n",
      "HelloBruce Wayne and Batman\n",
      "HelloPeter Parker and Spiderman\n"
     ]
    }
   ],
   "source": [
    "# Q 2:\n",
    "\n",
    "# --- your solution here --- #\n",
    "\n",
    "# call the function you defined\n",
    "def say_hello(name_1, name_2):\n",
    "    print(\"Hello\" + name_1 + \" and \" + name_2)\n",
    "    \n",
    "\n",
    "say_hello(\"Clark Kent\" ,\"Superman\")\n",
    "say_hello(\"Bruce Wayne\" ,\"Batman\")\n",
    "say_hello(\"Peter Parker\" ,\"Spiderman\")"
   ]
  },
  {
   "cell_type": "markdown",
   "id": "universal-leeds",
   "metadata": {},
   "source": [
    "---"
   ]
  },
  {
   "cell_type": "markdown",
   "id": "respiratory-share",
   "metadata": {},
   "source": [
    "**Q 3:**\n",
    "\n",
    "Define a function named say_my_name that asks user to enter his/her name.\n",
    "\n",
    "This function will print as:\n",
    "\"Hi [user_name].\"\n",
    "\n",
    "Hints:\n",
    "* to get input from user -> input()"
   ]
  },
  {
   "cell_type": "code",
   "execution_count": 8,
   "id": "frequent-indication",
   "metadata": {},
   "outputs": [
    {
     "name": "stdin",
     "output_type": "stream",
     "text": [
      "Please enter your name: Shreeja Gomatam\n"
     ]
    },
    {
     "name": "stdout",
     "output_type": "stream",
     "text": [
      "Hi! Shreeja Gomatam\n"
     ]
    }
   ],
   "source": [
    "# Q 3:\n",
    "\n",
    "# --- your solution here --- #\n",
    "    \n",
    "# call the function you defined\n",
    "def say_my_name():\n",
    "    name = input(\"Please enter your name:\")\n",
    "    print(\"Hi! \" + name)\n",
    "    \n",
    "say_my_name()"
   ]
  },
  {
   "cell_type": "markdown",
   "id": "sustainable-evening",
   "metadata": {},
   "source": [
    "---"
   ]
  },
  {
   "cell_type": "markdown",
   "id": "electrical-sherman",
   "metadata": {},
   "source": [
    "**Q 4:**\n",
    "\n",
    "Define a function named get_max that takes 3 parameters as integer.\n",
    "\n",
    "Function will return the maximum of these three numbers.\n",
    "\n",
    "Add a docstring for this function.\n",
    "\n",
    "*Hint: Python has max() built-in function.*\n",
    "\n",
    "*You can use help(max) to see how to use the max() function.*\n",
    "\n",
    "*Or you can find the documentation here.*\n",
    "\n",
    "https://docs.python.org/3/library/functions.html#max"
   ]
  },
  {
   "cell_type": "code",
   "execution_count": 2,
   "id": "excellent-valentine",
   "metadata": {},
   "outputs": [
    {
     "name": "stdout",
     "output_type": "stream",
     "text": [
      "82\n",
      "Help on function get_max in module __main__:\n",
      "\n",
      "get_max(x, y, z)\n",
      "    This function gets 3 numbers and selects the maximum.\n",
      "    Parameters: int num_1, num_2, num_3\n",
      "    Returns: value from Python's max() function\n",
      "    \n",
      "    \n",
      "    This function gets 3 numbers and selects the maximum.\n",
      "    Parameters: int num_1, num_2, num_3\n",
      "    Returns: max of the three inputs\n",
      "\n",
      "\n",
      "    This function gets 3 numbers and selects the maximum.\n",
      "    Parameters: int num_1, num_2, num_3\n",
      "    Returns: value from Python's max() function\n",
      "\n",
      "\n",
      "    This function gets 3 numbers and selects the maximum.\n",
      "    Parameters: int num_1, num_2, num_3\n",
      "    Returns: max of the three inputs\n",
      "    \n",
      "    \n"
     ]
    }
   ],
   "source": [
    "# Q 4:\n",
    "\n",
    "# --- your solution here --- #\n",
    "def get_max(x, y, z):\n",
    "    \"\"\"\n",
    "    This function gets 3 numbers and selects the maximum.\n",
    "    Parameters: int num_1, num_2, num_3\n",
    "    Returns: value from Python's max() function\n",
    "\n",
    "\n",
    "    This function gets 3 numbers and selects the maximum.\n",
    "    Parameters: int num_1, num_2, num_3\n",
    "    Returns: max of the three inputs\n",
    "    \n",
    "    \"\"\"\n",
    "    temp1 = max(x, y)\n",
    "    temp2 = max(temp1, z)\n",
    "    return temp2\n",
    "# call function -> get the returned value and print\n",
    "max_number = get_max(4, 82, 19)\n",
    "print(max_number)\n",
    "\n",
    "# docstring\n",
    "help(get_max)\n",
    "print(get_max.__doc__)"
   ]
  },
  {
   "cell_type": "markdown",
   "id": "changing-advocate",
   "metadata": {},
   "source": [
    "---"
   ]
  },
  {
   "cell_type": "markdown",
   "id": "modern-dividend",
   "metadata": {},
   "source": [
    "**Q 5:**\n",
    "\n",
    "Define a function named **strip_and_lower** that takes a string parameter.\n",
    "\n",
    "Function will remove spaces at the beginning and at the end of the string,\n",
    "then it will convert the string into lower case. \n",
    "\n",
    "Hints:\n",
    " * to remove spaces: strip()\n",
    " * to convert to lowercase: lower()"
   ]
  },
  {
   "cell_type": "code",
   "execution_count": 4,
   "id": "limited-purple",
   "metadata": {},
   "outputs": [
    {
     "name": "stdout",
     "output_type": "stream",
     "text": [
      "python machine learning\n"
     ]
    }
   ],
   "source": [
    "# Q 5:\n",
    "\n",
    "# --- your solution here --- #\n",
    "def strip_and_lower(txt):\n",
    "    \"\"\"\n",
    "    The function accepts a string as input and returns output without upper case\n",
    "    \"\"\"\n",
    "    data = txt.strip()\n",
    "    return data.lower()\n",
    "# function call\n",
    "txt = \"    PyThon MaCHine LeARning   \"\n",
    "final_txt = strip_and_lower(txt)\n",
    "print(final_txt)"
   ]
  },
  {
   "cell_type": "markdown",
   "id": "appointed-award",
   "metadata": {},
   "source": [
    "---"
   ]
  },
  {
   "cell_type": "markdown",
   "id": "liked-respect",
   "metadata": {},
   "source": [
    "**Q 6:**\n",
    "\n",
    "Define a function named **add** which takes two integer parameters.\n",
    "\n",
    "The function will return the sum of these parameters."
   ]
  },
  {
   "cell_type": "code",
   "execution_count": 6,
   "id": "ahead-publication",
   "metadata": {},
   "outputs": [
    {
     "name": "stdout",
     "output_type": "stream",
     "text": [
      "65\n"
     ]
    }
   ],
   "source": [
    "# Q 6:\n",
    "\n",
    "# --- your solution here --- #    \n",
    "def add(x, y):\n",
    "    \"\"\"\n",
    "    The function adds as the sum of two integers\n",
    "    returns : integer sum of two numbers\n",
    "    \"\"\"\n",
    "    return x+y\n",
    "# function call\n",
    "n_1 = 45\n",
    "n_2 = 20\n",
    "addition = add(n_1, n_2)\n",
    "print(addition)"
   ]
  },
  {
   "cell_type": "markdown",
   "id": "reasonable-trouble",
   "metadata": {},
   "source": [
    "---"
   ]
  },
  {
   "cell_type": "markdown",
   "id": "declared-inventory",
   "metadata": {},
   "source": [
    "**Q 7:**\n",
    "\n",
    "Define a function named **minimum_difference** which is taking 3 numeric parameters.\n",
    "\n",
    "Function will calculate the difference between each pairs.\n",
    "\n",
    "And return the minimum of these differences.\n",
    "\n",
    "Hints:\n",
    "* Use absolute value to calculate differences -> abs()\n",
    "* To get minimum -> min()"
   ]
  },
  {
   "cell_type": "code",
   "execution_count": 8,
   "id": "oriented-algebra",
   "metadata": {},
   "outputs": [
    {
     "name": "stdout",
     "output_type": "stream",
     "text": [
      "2\n"
     ]
    }
   ],
   "source": [
    "# Q 7:\n",
    "\n",
    "# --- your solution here --- #\n",
    "def minimum_difference(a, b, c):\n",
    "    \"\"\"\n",
    "    Finds the minimum difference between 3 numbers\n",
    "    accepts : three inputs a, b, c\n",
    "    returns : minimum difference values\n",
    "    \"\"\"\n",
    "    diff1 = abs(a-b) \n",
    "    diff2 = abs(b-c)\n",
    "    diff3 = abs(c-a)\n",
    "    min1 = min(diff1, diff2)\n",
    "    return min(min1, diff3)\n",
    "# function call\n",
    "a = 8\n",
    "b = 5\n",
    "c = 10\n",
    "min_diff = minimum_difference(a, b, c)\n",
    "print(min_diff)"
   ]
  },
  {
   "cell_type": "markdown",
   "id": "hindu-brazilian",
   "metadata": {},
   "source": [
    "---"
   ]
  },
  {
   "cell_type": "markdown",
   "id": "hollow-wildlife",
   "metadata": {},
   "source": [
    "**Q 8:**\n",
    "\n",
    "Define a function named **squre_root** which is taking an integer parameter.\n",
    "\n",
    "Function will return the square root of this parameter.\n",
    "\n",
    "Hint:\n",
    "* Square Root -> math.sqrt()"
   ]
  },
  {
   "cell_type": "code",
   "execution_count": 10,
   "id": "moral-participant",
   "metadata": {},
   "outputs": [
    {
     "name": "stdout",
     "output_type": "stream",
     "text": [
      "9.0\n"
     ]
    }
   ],
   "source": [
    "# Q 8:\n",
    "\n",
    "import math\n",
    "\n",
    "# --- your solution here --- #    \n",
    "def squre_root(a):\n",
    "    \"\"\"\n",
    "    Function returns the square root\n",
    "    input : a = an integer\n",
    "    returns : squareroot of a\n",
    "    \"\"\"\n",
    "    return math.sqrt(a)\n",
    "\n",
    "# function call\n",
    "num = 81\n",
    "sqr = squre_root(num)\n",
    "print(sqr)"
   ]
  },
  {
   "cell_type": "markdown",
   "id": "coral-smell",
   "metadata": {},
   "source": [
    "---"
   ]
  },
  {
   "cell_type": "markdown",
   "id": "communist-exhibit",
   "metadata": {},
   "source": [
    "**Q 9:**\n",
    "\n",
    "Define a function named **get_logarithm** which takes a numeric parameter.\n",
    "\n",
    "Function will return the logarithm of this number.\n",
    "\n",
    "Hint:\n",
    "* logarithm -> math.log()"
   ]
  },
  {
   "cell_type": "code",
   "execution_count": 11,
   "id": "sealed-roads",
   "metadata": {},
   "outputs": [
    {
     "name": "stdout",
     "output_type": "stream",
     "text": [
      "2.4849066497880004\n",
      "2.4849066497880004\n"
     ]
    }
   ],
   "source": [
    "# Q 9:\n",
    "\n",
    "import math\n",
    "\n",
    "# --- your solution here --- #   \n",
    "def get_logarithm(x):\n",
    "    \"\"\"\n",
    "    function gets the log of the number\n",
    "    input : integer x\n",
    "    return : logarithm\n",
    "    \"\"\"\n",
    "    return math.log(x)\n",
    "# function call\n",
    "n = 12\n",
    "log = get_logarithm(n)\n",
    "print(log)\n",
    "\n",
    "# chained function call\n",
    "print(get_logarithm(n))"
   ]
  },
  {
   "cell_type": "markdown",
   "id": "minus-software",
   "metadata": {},
   "source": [
    "---"
   ]
  },
  {
   "cell_type": "markdown",
   "id": "sudden-amateur",
   "metadata": {},
   "source": [
    "**Q 10:**\n",
    "\n",
    "Define a function named **hypotenuse** which takes two numeric parameters.\n",
    "\n",
    "Let's assume these numbers are two sides of a right triangle.\n",
    "\n",
    "The function will return the hypotenuse of this triangle.\n",
    "\n",
    "Hint:\n",
    "\n",
    "$$ hipo^2 = a^2 + b^2 $$"
   ]
  },
  {
   "cell_type": "code",
   "execution_count": 14,
   "id": "incredible-slovak",
   "metadata": {},
   "outputs": [
    {
     "name": "stdout",
     "output_type": "stream",
     "text": [
      "5.0\n",
      "25.0\n",
      "17.0\n"
     ]
    }
   ],
   "source": [
    "# Q 10:\n",
    "\n",
    "import math\n",
    "\n",
    "# --- your solution here --- #       \n",
    "def hypotenuse(a,b):\n",
    "    \"\"\"\n",
    "    calculates the hypoteneuse of a triangle given two sides\n",
    "    input : a, b length of the two sides\n",
    "    retursn : Length of hypotenuse\n",
    "    \"\"\"\n",
    "    val = ((a**2)+(b**2))\n",
    "    \n",
    "    return math.sqrt(val)\n",
    "\n",
    "# function call\n",
    "# 3-4-5 triangle\n",
    "print(hypotenuse(3, 4))\n",
    "  \n",
    "# 7-24-25 triangle\n",
    "print(hypotenuse(7, 24))\n",
    "\n",
    "# 8-15-17 triangle\n",
    "print(hypotenuse(8, 15))"
   ]
  },
  {
   "cell_type": "code",
   "execution_count": null,
   "id": "2f166f08-f292-40d1-a004-fece7c61aee9",
   "metadata": {},
   "outputs": [],
   "source": []
  }
 ],
 "metadata": {
  "kernelspec": {
   "display_name": "Python 3 (ipykernel)",
   "language": "python",
   "name": "python3"
  },
  "language_info": {
   "codemirror_mode": {
    "name": "ipython",
    "version": 3
   },
   "file_extension": ".py",
   "mimetype": "text/x-python",
   "name": "python",
   "nbconvert_exporter": "python",
   "pygments_lexer": "ipython3",
   "version": "3.9.7"
  }
 },
 "nbformat": 4,
 "nbformat_minor": 5
}
