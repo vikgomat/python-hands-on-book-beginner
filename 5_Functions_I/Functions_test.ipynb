{
 "cells": [
  {
   "cell_type": "code",
   "execution_count": 1,
   "id": "723b572f-2ebd-42ca-bb94-af3729c81241",
   "metadata": {},
   "outputs": [],
   "source": [
    "# define a function with docstring\n",
    "import math\n",
    "def get_power(num,p):\n",
    "    \"\"\"\n",
    "    Calculates the power of the number,\n",
    "    You'll enter num = the number whose,\n",
    "    power it needs to be calculated to.\n",
    "    You specify p the power to which\n",
    "    it needs to be raised.\n",
    "    You'll return the resulting value.\n",
    "    \"\"\"\n",
    "    power = math.pow(num,p)\n",
    "    return power"
   ]
  },
  {
   "cell_type": "code",
   "execution_count": 2,
   "id": "b678fb9c-abfd-48ae-afd2-531dc0d82eca",
   "metadata": {},
   "outputs": [
    {
     "name": "stdout",
     "output_type": "stream",
     "text": [
      "27.0\n"
     ]
    }
   ],
   "source": [
    "value = get_power(3,3)\n",
    "print(value)"
   ]
  },
  {
   "cell_type": "code",
   "execution_count": 3,
   "id": "a243dc44-37af-4f1f-b9c9-232e98e05af4",
   "metadata": {},
   "outputs": [
    {
     "data": {
      "text/plain": [
       "\u001b[1;31mSignature:\u001b[0m \u001b[0mget_power\u001b[0m\u001b[1;33m(\u001b[0m\u001b[0mnum\u001b[0m\u001b[1;33m,\u001b[0m \u001b[0mp\u001b[0m\u001b[1;33m)\u001b[0m\u001b[1;33m\u001b[0m\u001b[1;33m\u001b[0m\u001b[0m\n",
       "\u001b[1;31mSource:\u001b[0m   \n",
       "\u001b[1;32mdef\u001b[0m \u001b[0mget_power\u001b[0m\u001b[1;33m(\u001b[0m\u001b[0mnum\u001b[0m\u001b[1;33m,\u001b[0m\u001b[0mp\u001b[0m\u001b[1;33m)\u001b[0m\u001b[1;33m:\u001b[0m\u001b[1;33m\n",
       "\u001b[0m    \u001b[1;34m\"\"\"\n",
       "    Calculates the power of the number,\n",
       "    You'll enter num = the number whose,\n",
       "    power it needs to be calculated to.\n",
       "    You specify p the power to which\n",
       "    it needs to be raised.\n",
       "    You'll return the resulting value.\n",
       "    \"\"\"\u001b[0m\u001b[1;33m\n",
       "\u001b[0m    \u001b[0mpower\u001b[0m \u001b[1;33m=\u001b[0m \u001b[0mmath\u001b[0m\u001b[1;33m.\u001b[0m\u001b[0mpow\u001b[0m\u001b[1;33m(\u001b[0m\u001b[0mnum\u001b[0m\u001b[1;33m,\u001b[0m\u001b[0mp\u001b[0m\u001b[1;33m)\u001b[0m\u001b[1;33m\n",
       "\u001b[0m    \u001b[1;32mreturn\u001b[0m \u001b[0mpower\u001b[0m\u001b[1;33m\u001b[0m\u001b[1;33m\u001b[0m\u001b[0m\n",
       "\u001b[1;31mFile:\u001b[0m      c:\\users\\vikramtg\\appdata\\local\\temp\\ipykernel_4748\\3201134672.py\n",
       "\u001b[1;31mType:\u001b[0m      function\n"
      ]
     },
     "metadata": {},
     "output_type": "display_data"
    }
   ],
   "source": [
    "get_power??"
   ]
  },
  {
   "cell_type": "code",
   "execution_count": 4,
   "id": "5f6094c7-6f5b-4b85-9370-7c68717553b2",
   "metadata": {},
   "outputs": [
    {
     "name": "stdout",
     "output_type": "stream",
     "text": [
      "Help on function get_power in module __main__:\n",
      "\n",
      "get_power(num, p)\n",
      "    Calculates the power of the number,\n",
      "    You'll enter num = the number whose,\n",
      "    power it needs to be calculated to.\n",
      "    You specify p the power to which\n",
      "    it needs to be raised.\n",
      "    You'll return the resulting value.\n",
      "\n"
     ]
    }
   ],
   "source": [
    "help(get_power)"
   ]
  },
  {
   "cell_type": "code",
   "execution_count": 5,
   "id": "0d41dd3e-20aa-4382-b1a4-8ee00018dc48",
   "metadata": {},
   "outputs": [
    {
     "data": {
      "text/plain": [
       "\u001b[1;31mSignature:\u001b[0m \u001b[0mget_power\u001b[0m\u001b[1;33m(\u001b[0m\u001b[0mnum\u001b[0m\u001b[1;33m,\u001b[0m \u001b[0mp\u001b[0m\u001b[1;33m)\u001b[0m\u001b[1;33m\u001b[0m\u001b[1;33m\u001b[0m\u001b[0m\n",
       "\u001b[1;31mDocstring:\u001b[0m\n",
       "Calculates the power of the number,\n",
       "You'll enter num = the number whose,\n",
       "power it needs to be calculated to.\n",
       "You specify p the power to which\n",
       "it needs to be raised.\n",
       "You'll return the resulting value.\n",
       "\u001b[1;31mFile:\u001b[0m      c:\\users\\vikramtg\\appdata\\local\\temp\\ipykernel_4748\\3201134672.py\n",
       "\u001b[1;31mType:\u001b[0m      function\n"
      ]
     },
     "metadata": {},
     "output_type": "display_data"
    }
   ],
   "source": [
    "get_power?"
   ]
  },
  {
   "cell_type": "code",
   "execution_count": 6,
   "id": "d80321ed-b722-41e7-b3af-e6dd1347133d",
   "metadata": {},
   "outputs": [
    {
     "data": {
      "text/plain": [
       "\"\\n    Calculates the power of the number,\\n    You'll enter num = the number whose,\\n    power it needs to be calculated to.\\n    You specify p the power to which\\n    it needs to be raised.\\n    You'll return the resulting value.\\n    \""
      ]
     },
     "execution_count": 6,
     "metadata": {},
     "output_type": "execute_result"
    }
   ],
   "source": [
    "get_power.__doc__"
   ]
  },
  {
   "cell_type": "code",
   "execution_count": 8,
   "id": "a253be72-85ed-4f58-a102-17eec1397c81",
   "metadata": {},
   "outputs": [
    {
     "data": {
      "text/plain": [
       "'__main__'"
      ]
     },
     "execution_count": 8,
     "metadata": {},
     "output_type": "execute_result"
    }
   ],
   "source": [
    "get_power.__module__"
   ]
  },
  {
   "cell_type": "code",
   "execution_count": 10,
   "id": "07e17384-bb23-4fd4-93d1-491a92a29746",
   "metadata": {},
   "outputs": [
    {
     "name": "stdin",
     "output_type": "stream",
     "text": [
      "what's your name Vikram\n"
     ]
    },
    {
     "name": "stdout",
     "output_type": "stream",
     "text": [
      "your name is Vikram\n"
     ]
    }
   ],
   "source": [
    "# request input\n",
    "Name = input (\"what's your name\")\n",
    "print(\"your name is \" + Name)"
   ]
  },
  {
   "cell_type": "code",
   "execution_count": null,
   "id": "91f4a57c-9106-4b67-89b5-95ea0d1d6acc",
   "metadata": {},
   "outputs": [],
   "source": []
  }
 ],
 "metadata": {
  "kernelspec": {
   "display_name": "Python 3 (ipykernel)",
   "language": "python",
   "name": "python3"
  },
  "language_info": {
   "codemirror_mode": {
    "name": "ipython",
    "version": 3
   },
   "file_extension": ".py",
   "mimetype": "text/x-python",
   "name": "python",
   "nbconvert_exporter": "python",
   "pygments_lexer": "ipython3",
   "version": "3.9.7"
  }
 },
 "nbformat": 4,
 "nbformat_minor": 5
}
