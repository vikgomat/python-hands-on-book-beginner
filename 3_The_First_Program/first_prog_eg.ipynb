{
 "cells": [
  {
   "cell_type": "code",
   "execution_count": 1,
   "id": "4aa0750d-e29e-48da-9696-080d4574ba66",
   "metadata": {},
   "outputs": [
    {
     "name": "stdout",
     "output_type": "stream",
     "text": [
      "Hello World\n"
     ]
    }
   ],
   "source": [
    "print(\"Hello World\")"
   ]
  },
  {
   "cell_type": "code",
   "execution_count": 2,
   "id": "9ae28f0f-96f9-4db1-876e-2e64070b3d6d",
   "metadata": {},
   "outputs": [
    {
     "name": "stdout",
     "output_type": "stream",
     "text": [
      "This is the second line of the code\n"
     ]
    }
   ],
   "source": [
    "print(\"This is the second line of the code\")"
   ]
  },
  {
   "cell_type": "code",
   "execution_count": 3,
   "id": "5e438712-1d44-424d-8935-22a93e8d8be8",
   "metadata": {},
   "outputs": [
    {
     "name": "stdout",
     "output_type": "stream",
     "text": [
      "2345\n"
     ]
    }
   ],
   "source": [
    "print(2345)"
   ]
  },
  {
   "cell_type": "code",
   "execution_count": 4,
   "id": "f64d287e-88a9-4e04-ab31-17f929b24ed7",
   "metadata": {},
   "outputs": [
    {
     "data": {
      "text/plain": [
       "91"
      ]
     },
     "execution_count": 4,
     "metadata": {},
     "output_type": "execute_result"
    }
   ],
   "source": [
    "2+89"
   ]
  },
  {
   "cell_type": "code",
   "execution_count": 5,
   "id": "0eb8b51f-4cc4-42c4-aa68-2e3177fc89b2",
   "metadata": {},
   "outputs": [
    {
     "data": {
      "text/plain": [
       "31"
      ]
     },
     "execution_count": 5,
     "metadata": {},
     "output_type": "execute_result"
    }
   ],
   "source": [
    "#addition\n",
    "8+23\n"
   ]
  },
  {
   "cell_type": "code",
   "execution_count": 6,
   "id": "e0f83836-6003-4f94-8d23-7f4a384d86a5",
   "metadata": {},
   "outputs": [
    {
     "data": {
      "text/plain": [
       "45"
      ]
     },
     "execution_count": 6,
     "metadata": {},
     "output_type": "execute_result"
    }
   ],
   "source": [
    "# subtraction\n",
    "67-22"
   ]
  },
  {
   "cell_type": "code",
   "execution_count": 9,
   "id": "973d0ced-f1de-4b2b-84c1-208aee55c891",
   "metadata": {},
   "outputs": [
    {
     "data": {
      "text/plain": [
       "312"
      ]
     },
     "execution_count": 9,
     "metadata": {},
     "output_type": "execute_result"
    }
   ],
   "source": [
    "# multiplication\n",
    "4*78"
   ]
  },
  {
   "cell_type": "code",
   "execution_count": 8,
   "id": "4306b4a7-2a22-496e-9dfc-7fc5cada56ec",
   "metadata": {},
   "outputs": [
    {
     "data": {
      "text/plain": [
       "4.0"
      ]
     },
     "execution_count": 8,
     "metadata": {},
     "output_type": "execute_result"
    }
   ],
   "source": [
    "#division\n",
    "8/2"
   ]
  },
  {
   "cell_type": "code",
   "execution_count": 7,
   "id": "1914a59e-ef62-4aa5-b8e8-3e794969f8be",
   "metadata": {},
   "outputs": [
    {
     "data": {
      "text/plain": [
       "2"
      ]
     },
     "execution_count": 7,
     "metadata": {},
     "output_type": "execute_result"
    }
   ],
   "source": [
    "#floor division\n",
    "8//3"
   ]
  },
  {
   "cell_type": "code",
   "execution_count": 10,
   "id": "bc09e296-5aa2-4b89-b707-bede649fc87e",
   "metadata": {},
   "outputs": [
    {
     "data": {
      "text/plain": [
       "256"
      ]
     },
     "execution_count": 10,
     "metadata": {},
     "output_type": "execute_result"
    }
   ],
   "source": [
    "#exponential\n",
    "4**4"
   ]
  },
  {
   "cell_type": "code",
   "execution_count": 11,
   "id": "75cef36a-110e-4c83-97e5-519ef1f98233",
   "metadata": {},
   "outputs": [
    {
     "data": {
      "text/plain": [
       "1"
      ]
     },
     "execution_count": 11,
     "metadata": {},
     "output_type": "execute_result"
    }
   ],
   "source": [
    "#modulo\n",
    "9 %8"
   ]
  },
  {
   "cell_type": "code",
   "execution_count": 12,
   "id": "cff18f67-cd24-498e-bd5c-8623196640e7",
   "metadata": {},
   "outputs": [
    {
     "data": {
      "text/plain": [
       "str"
      ]
     },
     "execution_count": 12,
     "metadata": {},
     "output_type": "execute_result"
    }
   ],
   "source": [
    "type(\"Hello\")"
   ]
  },
  {
   "cell_type": "code",
   "execution_count": 13,
   "id": "1b7a2f18-2ba6-419a-bc3a-2c35a1e0d3c9",
   "metadata": {},
   "outputs": [
    {
     "data": {
      "text/plain": [
       "int"
      ]
     },
     "execution_count": 13,
     "metadata": {},
     "output_type": "execute_result"
    }
   ],
   "source": [
    "type(2)"
   ]
  },
  {
   "cell_type": "code",
   "execution_count": 14,
   "id": "6d1d4ab3-d6b9-4907-bfac-a6f706be66bd",
   "metadata": {},
   "outputs": [
    {
     "data": {
      "text/plain": [
       "float"
      ]
     },
     "execution_count": 14,
     "metadata": {},
     "output_type": "execute_result"
    }
   ],
   "source": [
    "type(4.6)"
   ]
  },
  {
   "cell_type": "code",
   "execution_count": 15,
   "id": "d680a771-a4c3-4367-a541-461ef608a559",
   "metadata": {},
   "outputs": [
    {
     "data": {
      "text/plain": [
       "float"
      ]
     },
     "execution_count": 15,
     "metadata": {},
     "output_type": "execute_result"
    }
   ],
   "source": [
    "type(4.777777777777777777777777)"
   ]
  },
  {
   "cell_type": "code",
   "execution_count": null,
   "id": "aa0de81b-871c-4898-a30e-a910ab60d5b0",
   "metadata": {},
   "outputs": [],
   "source": []
  }
 ],
 "metadata": {
  "kernelspec": {
   "display_name": "Python 3 (ipykernel)",
   "language": "python",
   "name": "python3"
  },
  "language_info": {
   "codemirror_mode": {
    "name": "ipython",
    "version": 3
   },
   "file_extension": ".py",
   "mimetype": "text/x-python",
   "name": "python",
   "nbconvert_exporter": "python",
   "pygments_lexer": "ipython3",
   "version": "3.9.7"
  }
 },
 "nbformat": 4,
 "nbformat_minor": 5
}
