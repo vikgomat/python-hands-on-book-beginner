{
 "cells": [
  {
   "cell_type": "code",
   "execution_count": 3,
   "id": "670e3a80-370c-42bd-b952-6deb4ee5d4cb",
   "metadata": {
    "tags": []
   },
   "outputs": [
    {
     "name": "stdout",
     "output_type": "stream",
     "text": [
      "Hello World\n"
     ]
    }
   ],
   "source": [
    "print('Hello World')"
   ]
  },
  {
   "cell_type": "markdown",
   "id": "ec4c8ea7-b37a-4514-b919-9498abe4b221",
   "metadata": {},
   "source": [
    "this is a **Markdown** cell"
   ]
  },
  {
   "cell_type": "raw",
   "id": "3979d1c5-5ea8-4c29-b01f-f6c176599919",
   "metadata": {},
   "source": [
    "this is a raw cell"
   ]
  },
  {
   "cell_type": "code",
   "execution_count": null,
   "id": "43690a50-781e-4c8b-8e24-7889a0779681",
   "metadata": {},
   "outputs": [],
   "source": []
  }
 ],
 "metadata": {
  "kernelspec": {
   "display_name": "Python 3 (ipykernel)",
   "language": "python",
   "name": "python3"
  },
  "language_info": {
   "codemirror_mode": {
    "name": "ipython",
    "version": 3
   },
   "file_extension": ".py",
   "mimetype": "text/x-python",
   "name": "python",
   "nbconvert_exporter": "python",
   "pygments_lexer": "ipython3",
   "version": "3.9.7"
  }
 },
 "nbformat": 4,
 "nbformat_minor": 5
}
