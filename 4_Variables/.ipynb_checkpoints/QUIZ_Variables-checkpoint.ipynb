{
 "cells": [
  {
   "cell_type": "markdown",
   "id": "authentic-upset",
   "metadata": {},
   "source": [
    "## QUIZ - Variables"
   ]
  },
  {
   "cell_type": "markdown",
   "id": "intensive-possibility",
   "metadata": {},
   "source": [
    "#### General Syntax"
   ]
  },
  {
   "cell_type": "markdown",
   "id": "engaging-moderator",
   "metadata": {},
   "source": [
    "**Q 1:**\n",
    "\n",
    "Fill in the blanks to print \"Hello World!\":\n",
    "\n",
    ".....(\"Hello World!\")"
   ]
  },
  {
   "cell_type": "code",
   "execution_count": 3,
   "id": "golden-generic",
   "metadata": {},
   "outputs": [
    {
     "name": "stdout",
     "output_type": "stream",
     "text": [
      "Hello World!\n"
     ]
    }
   ],
   "source": [
    "# Q 1:\n",
    "print(\"Hello World!\")\n",
    "\n"
   ]
  },
  {
   "cell_type": "markdown",
   "id": "moderate-palestine",
   "metadata": {},
   "source": [
    "---"
   ]
  },
  {
   "cell_type": "markdown",
   "id": "dedicated-recipient",
   "metadata": {},
   "source": [
    "**Q 2:**\n",
    "Fix the typo (coding error) below:\n",
    "\n",
    "<pre>\n",
    "print(\"Alice's Adventures')\n",
    "</pre>"
   ]
  },
  {
   "cell_type": "code",
   "execution_count": 2,
   "id": "respective-archive",
   "metadata": {},
   "outputs": [
    {
     "name": "stdout",
     "output_type": "stream",
     "text": [
      "Alice's Adventures\n"
     ]
    }
   ],
   "source": [
    "# Q 2:\n",
    "print(\"Alice's Adventures\")\n"
   ]
  },
  {
   "cell_type": "markdown",
   "id": "lined-journey",
   "metadata": {},
   "source": [
    "---"
   ]
  },
  {
   "cell_type": "markdown",
   "id": "certain-merit",
   "metadata": {},
   "source": [
    "**Q 3:**\n",
    "\n",
    "Convert the line below into a Comment Line.\n",
    "(One line comment)\n",
    "\n",
    "I am a Comment Line :)"
   ]
  },
  {
   "cell_type": "code",
   "execution_count": 1,
   "id": "absolute-bottle",
   "metadata": {},
   "outputs": [],
   "source": [
    "# Q 3:\n",
    "# I am a Comment Line :)\n"
   ]
  },
  {
   "cell_type": "markdown",
   "id": "pretty-beverage",
   "metadata": {},
   "source": [
    "---"
   ]
  },
  {
   "cell_type": "markdown",
   "id": "durable-inclusion",
   "metadata": {},
   "source": [
    "**Q 4:**\n",
    "\n",
    "Convert the lines below into comment lines. (multi-line comment)\n",
    "\n",
    "<pre>\n",
    "This comment line\n",
    "Is multiple lines comment\n",
    "Not just one...\n",
    "</pre>"
   ]
  },
  {
   "cell_type": "code",
   "execution_count": 4,
   "id": "seventh-grove",
   "metadata": {},
   "outputs": [],
   "source": [
    "# Q 4:\n",
    "\n"
   ]
  },
  {
   "cell_type": "markdown",
   "id": "patent-korea",
   "metadata": {},
   "source": [
    "---"
   ]
  },
  {
   "cell_type": "markdown",
   "id": "organizational-cyprus",
   "metadata": {},
   "source": [
    "**Q 5:**\n",
    "\n",
    "Print the text below exactly as it is shown.\n",
    "\n",
    "<pre>\n",
    "Who in the world am I?\n",
    "    Ah, that's the great puzzle!\n",
    "        'Alice in Wonderland'\n",
    "</pre>"
   ]
  },
  {
   "cell_type": "code",
   "execution_count": 5,
   "id": "given-people",
   "metadata": {},
   "outputs": [],
   "source": [
    "# Q 5:\n",
    "\n"
   ]
  },
  {
   "cell_type": "markdown",
   "id": "protecting-copyright",
   "metadata": {},
   "source": [
    "---"
   ]
  },
  {
   "cell_type": "markdown",
   "id": "rough-student",
   "metadata": {},
   "source": [
    "**Q 6:**\n",
    "\n",
    "Create a variable named car_model and assign the value 'Volvo' to it."
   ]
  },
  {
   "cell_type": "code",
   "execution_count": 6,
   "id": "aware-bulletin",
   "metadata": {},
   "outputs": [],
   "source": [
    "# Q 6:\n",
    "\n"
   ]
  },
  {
   "cell_type": "markdown",
   "id": "signal-suffering",
   "metadata": {},
   "source": [
    "---"
   ]
  },
  {
   "cell_type": "markdown",
   "id": "abandoned-particle",
   "metadata": {},
   "source": [
    "**Q 7:**\n",
    "\n",
    "Create a variable named x and set its value to 50."
   ]
  },
  {
   "cell_type": "code",
   "execution_count": 7,
   "id": "administrative-banana",
   "metadata": {},
   "outputs": [],
   "source": [
    "# Q 7:\n",
    "\n"
   ]
  },
  {
   "cell_type": "markdown",
   "id": "intensive-elizabeth",
   "metadata": {},
   "source": [
    "---"
   ]
  },
  {
   "cell_type": "markdown",
   "id": "random-wisdom",
   "metadata": {},
   "source": [
    "**Q 8:**\n",
    "\n",
    "Create two variables x and y. And assign them as 20 and 50 respectively.\n",
    "\n",
    "Create a variable z, and assign x + y to it.\n",
    "\n",
    "Then print z.\n",
    "\n",
    "<pre>\n",
    "x = 20\n",
    "y = 80\n",
    "\n",
    "... = x + y\n",
    "print(...)\n",
    "</pre>"
   ]
  },
  {
   "cell_type": "code",
   "execution_count": 8,
   "id": "genetic-insider",
   "metadata": {},
   "outputs": [],
   "source": [
    "# Q 8:\n",
    "\n"
   ]
  },
  {
   "cell_type": "markdown",
   "id": "humanitarian-climate",
   "metadata": {},
   "source": [
    "---"
   ]
  },
  {
   "cell_type": "markdown",
   "id": "revised-chess",
   "metadata": {},
   "source": [
    "**Q 9:**\n",
    "\n",
    "Remove forbidden characters from the variable name.\n",
    "\n",
    "**2my-first_variable*β = \"Beta\"**"
   ]
  },
  {
   "cell_type": "code",
   "execution_count": 9,
   "id": "equipped-tract",
   "metadata": {},
   "outputs": [],
   "source": [
    "# Q 9:\n",
    "\n"
   ]
  },
  {
   "cell_type": "markdown",
   "id": "delayed-inquiry",
   "metadata": {},
   "source": [
    "---"
   ]
  },
  {
   "cell_type": "markdown",
   "id": "polyphonic-baltimore",
   "metadata": {},
   "source": [
    "**Q 10:**\n",
    "\n",
    "Fill in the blanks to assign three variables at the same time.\n",
    "\n",
    "x ... y ... z = \"Python\""
   ]
  },
  {
   "cell_type": "code",
   "execution_count": 10,
   "id": "bigger-circle",
   "metadata": {},
   "outputs": [],
   "source": [
    "# Q 10:\n",
    "\n"
   ]
  }
 ],
 "metadata": {
  "kernelspec": {
   "display_name": "Python 3 (ipykernel)",
   "language": "python",
   "name": "python3"
  },
  "language_info": {
   "codemirror_mode": {
    "name": "ipython",
    "version": 3
   },
   "file_extension": ".py",
   "mimetype": "text/x-python",
   "name": "python",
   "nbconvert_exporter": "python",
   "pygments_lexer": "ipython3",
   "version": "3.9.7"
  }
 },
 "nbformat": 4,
 "nbformat_minor": 5
}
