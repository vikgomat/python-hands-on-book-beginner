{
 "cells": [
  {
   "cell_type": "code",
   "execution_count": 1,
   "id": "87b6a51a-2425-4d1e-b069-605f2b19e44b",
   "metadata": {},
   "outputs": [],
   "source": [
    "a = 1000"
   ]
  },
  {
   "cell_type": "code",
   "execution_count": 2,
   "id": "fa5119d6-c3e4-4bda-9326-1dcae257c8c8",
   "metadata": {},
   "outputs": [
    {
     "data": {
      "text/plain": [
       "1000"
      ]
     },
     "execution_count": 2,
     "metadata": {},
     "output_type": "execute_result"
    }
   ],
   "source": [
    "a"
   ]
  },
  {
   "cell_type": "code",
   "execution_count": 3,
   "id": "0c419908-c749-4f0f-b9fe-3c74c7599572",
   "metadata": {},
   "outputs": [],
   "source": [
    "bv = \"Hello\""
   ]
  },
  {
   "cell_type": "code",
   "execution_count": 4,
   "id": "543e5cff-ff61-4858-bee7-68a59fe56ea4",
   "metadata": {},
   "outputs": [
    {
     "data": {
      "text/plain": [
       "'Hello'"
      ]
     },
     "execution_count": 4,
     "metadata": {},
     "output_type": "execute_result"
    }
   ],
   "source": [
    "bv"
   ]
  },
  {
   "cell_type": "code",
   "execution_count": 5,
   "id": "d9b88a3b-f8ea-4464-890d-8f1663fd5d07",
   "metadata": {},
   "outputs": [],
   "source": [
    "a = \"this is assignment\""
   ]
  },
  {
   "cell_type": "code",
   "execution_count": 6,
   "id": "a7597774-1d1a-417c-a19c-124a2038e5f6",
   "metadata": {},
   "outputs": [
    {
     "data": {
      "text/plain": [
       "'this is assignment'"
      ]
     },
     "execution_count": 6,
     "metadata": {},
     "output_type": "execute_result"
    }
   ],
   "source": [
    "a"
   ]
  },
  {
   "cell_type": "code",
   "execution_count": 7,
   "id": "513ef973-7321-4a9d-b32c-ed9101d4a2be",
   "metadata": {},
   "outputs": [
    {
     "data": {
      "text/plain": [
       "float"
      ]
     },
     "execution_count": 7,
     "metadata": {},
     "output_type": "execute_result"
    }
   ],
   "source": [
    "f = 4.5\n",
    "type(f)"
   ]
  },
  {
   "cell_type": "code",
   "execution_count": 8,
   "id": "36c95d28-5bd6-4f83-8b95-9c92106f29a9",
   "metadata": {},
   "outputs": [
    {
     "data": {
      "text/plain": [
       "complex"
      ]
     },
     "execution_count": 8,
     "metadata": {},
     "output_type": "execute_result"
    }
   ],
   "source": [
    "cnum = 1 + 7j;\n",
    "type(cnum)"
   ]
  },
  {
   "cell_type": "code",
   "execution_count": 10,
   "id": "eb02e57a-2257-4c4e-afc6-9756f469a13f",
   "metadata": {},
   "outputs": [
    {
     "data": {
      "text/plain": [
       "[1, 2, 3, 4, 50]"
      ]
     },
     "execution_count": 10,
     "metadata": {},
     "output_type": "execute_result"
    }
   ],
   "source": [
    "list1 = [1,2,3,4,50]\n",
    "list1"
   ]
  },
  {
   "cell_type": "code",
   "execution_count": 11,
   "id": "252e9662-efb7-45dc-943a-6e4676f74263",
   "metadata": {},
   "outputs": [
    {
     "data": {
      "text/plain": [
       "list"
      ]
     },
     "execution_count": 11,
     "metadata": {},
     "output_type": "execute_result"
    }
   ],
   "source": [
    "type(list1)"
   ]
  },
  {
   "cell_type": "code",
   "execution_count": 12,
   "id": "1cf41830-96be-477f-bd76-bb166f1c154f",
   "metadata": {},
   "outputs": [
    {
     "data": {
      "text/plain": [
       "(1, 2, 3, 90)"
      ]
     },
     "execution_count": 12,
     "metadata": {},
     "output_type": "execute_result"
    }
   ],
   "source": [
    "var_tup = (1,2,3,90);\n",
    "var_tup"
   ]
  },
  {
   "cell_type": "code",
   "execution_count": 13,
   "id": "347848cf-c7ae-43ed-bee7-3fbd9ab6b015",
   "metadata": {},
   "outputs": [
    {
     "data": {
      "text/plain": [
       "tuple"
      ]
     },
     "execution_count": 13,
     "metadata": {},
     "output_type": "execute_result"
    }
   ],
   "source": [
    "type(var_tup)"
   ]
  },
  {
   "cell_type": "code",
   "execution_count": 14,
   "id": "760d9287-48c1-4024-a8ec-305588977e68",
   "metadata": {},
   "outputs": [
    {
     "data": {
      "text/plain": [
       "range(0, 5)"
      ]
     },
     "execution_count": 14,
     "metadata": {},
     "output_type": "execute_result"
    }
   ],
   "source": [
    "range_5 = range(5)\n",
    "range_5"
   ]
  },
  {
   "cell_type": "code",
   "execution_count": 15,
   "id": "dd7dcb79-1f3a-43da-9cf1-18eee5b41aeb",
   "metadata": {},
   "outputs": [
    {
     "data": {
      "text/plain": [
       "range"
      ]
     },
     "execution_count": 15,
     "metadata": {},
     "output_type": "execute_result"
    }
   ],
   "source": [
    "type(range_5)"
   ]
  },
  {
   "cell_type": "code",
   "execution_count": 24,
   "id": "92761e04-a78a-4cee-ad5d-0585b0660903",
   "metadata": {},
   "outputs": [
    {
     "name": "stdout",
     "output_type": "stream",
     "text": [
      "{'name': 'Vik', 'Age': 35, 'Education': 'PhD'}\n"
     ]
    },
    {
     "data": {
      "text/plain": [
       "dict"
      ]
     },
     "execution_count": 24,
     "metadata": {},
     "output_type": "execute_result"
    }
   ],
   "source": [
    "usertype = {\n",
    "    \"name\" : \"Vik\",\n",
    "    \"Age\" : 35,\n",
    "    \"Education\" : \"PhD\"\n",
    "};\n",
    "print(usertype)\n",
    "type(usertype)"
   ]
  },
  {
   "cell_type": "code",
   "execution_count": 25,
   "id": "4191681c-ad1a-4136-b1d7-250795c1440d",
   "metadata": {},
   "outputs": [
    {
     "name": "stdout",
     "output_type": "stream",
     "text": [
      "0\n",
      "1\n",
      "2\n",
      "3\n",
      "4\n"
     ]
    }
   ],
   "source": [
    "for i in range_5:\n",
    "    print(i)"
   ]
  },
  {
   "cell_type": "code",
   "execution_count": 26,
   "id": "49da1425-ef9b-4560-8c3c-3a7a736bdfbd",
   "metadata": {},
   "outputs": [
    {
     "name": "stdout",
     "output_type": "stream",
     "text": [
      "{1, 2, 3, 4, 5, 312}\n"
     ]
    }
   ],
   "source": [
    "var = {1,1,1,3,2,4,5,312,4,2,3}\n",
    "print(var)"
   ]
  },
  {
   "cell_type": "code",
   "execution_count": 27,
   "id": "6926eb45-3fec-4273-8e3a-eb9c093bd687",
   "metadata": {},
   "outputs": [
    {
     "data": {
      "text/plain": [
       "set"
      ]
     },
     "execution_count": 27,
     "metadata": {},
     "output_type": "execute_result"
    }
   ],
   "source": [
    "type(var)"
   ]
  },
  {
   "cell_type": "code",
   "execution_count": 28,
   "id": "fef7f820-ea7a-43a1-ab7f-3ba2c065ffee",
   "metadata": {},
   "outputs": [
    {
     "data": {
      "text/plain": [
       "'\\nthis is a multi-line\\n\\ncode \\n\\nIdiot\\n'"
      ]
     },
     "execution_count": 28,
     "metadata": {},
     "output_type": "execute_result"
    }
   ],
   "source": [
    "\"\"\"\n",
    "this is a multi-line\n",
    "\n",
    "code \n",
    "\n",
    "Idiot\n",
    "\"\"\""
   ]
  },
  {
   "cell_type": "code",
   "execution_count": 29,
   "id": "f26921f9-d58c-4d18-a087-aed1614ae7a4",
   "metadata": {},
   "outputs": [
    {
     "name": "stdout",
     "output_type": "stream",
     "text": [
      "45.55\n",
      "45\n"
     ]
    }
   ],
   "source": [
    "floatVal = 45.55\n",
    "print(floatVal)\n",
    "toInt = int(floatVal)\n",
    "print(toInt)"
   ]
  },
  {
   "cell_type": "code",
   "execution_count": 30,
   "id": "3b050e04-9832-4d8f-b865-0118085df549",
   "metadata": {},
   "outputs": [
    {
     "name": "stdout",
     "output_type": "stream",
     "text": [
      "45.55\n"
     ]
    }
   ],
   "source": [
    "tostr = str(floatVal)\n",
    "print(tostr)"
   ]
  },
  {
   "cell_type": "code",
   "execution_count": 33,
   "id": "6f213532-3be6-4a77-a388-48d29b73e69c",
   "metadata": {},
   "outputs": [
    {
     "data": {
      "text/plain": [
       "str"
      ]
     },
     "execution_count": 33,
     "metadata": {},
     "output_type": "execute_result"
    }
   ],
   "source": [
    "type(tostr)"
   ]
  },
  {
   "cell_type": "code",
   "execution_count": 34,
   "id": "84f2fd30-cdca-47e7-8818-bae7cdc91cfc",
   "metadata": {},
   "outputs": [
    {
     "data": {
      "text/plain": [
       "float"
      ]
     },
     "execution_count": 34,
     "metadata": {},
     "output_type": "execute_result"
    }
   ],
   "source": [
    "type(floatVal)"
   ]
  },
  {
   "cell_type": "code",
   "execution_count": 35,
   "id": "2c52725a-f6ce-488e-b408-b77fc860da21",
   "metadata": {},
   "outputs": [
    {
     "data": {
      "text/plain": [
       "int"
      ]
     },
     "execution_count": 35,
     "metadata": {},
     "output_type": "execute_result"
    }
   ],
   "source": [
    "type(toInt)"
   ]
  },
  {
   "cell_type": "code",
   "execution_count": 36,
   "id": "a33a8cc2-ebf7-4514-a8d9-003f84ec4c00",
   "metadata": {},
   "outputs": [
    {
     "name": "stdout",
     "output_type": "stream",
     "text": [
      "['False', 'None', 'True', '__peg_parser__', 'and', 'as', 'assert', 'async', 'await', 'break', 'class', 'continue', 'def', 'del', 'elif', 'else', 'except', 'finally', 'for', 'from', 'global', 'if', 'import', 'in', 'is', 'lambda', 'nonlocal', 'not', 'or', 'pass', 'raise', 'return', 'try', 'while', 'with', 'yield']\n"
     ]
    }
   ],
   "source": [
    "import keyword\n",
    "\n",
    "keywords= keyword.kwlist\n",
    "print(keywords)"
   ]
  },
  {
   "cell_type": "code",
   "execution_count": 37,
   "id": "0654cf03-5f85-44b4-bc9f-3b71468d12c3",
   "metadata": {},
   "outputs": [
    {
     "data": {
      "text/plain": [
       "True"
      ]
     },
     "execution_count": 37,
     "metadata": {},
     "output_type": "execute_result"
    }
   ],
   "source": [
    "keyword.iskeyword('False')\n"
   ]
  },
  {
   "cell_type": "code",
   "execution_count": null,
   "id": "c9345903-3efb-43de-92c2-a27823ded1dc",
   "metadata": {},
   "outputs": [],
   "source": []
  }
 ],
 "metadata": {
  "kernelspec": {
   "display_name": "Python 3 (ipykernel)",
   "language": "python",
   "name": "python3"
  },
  "language_info": {
   "codemirror_mode": {
    "name": "ipython",
    "version": 3
   },
   "file_extension": ".py",
   "mimetype": "text/x-python",
   "name": "python",
   "nbconvert_exporter": "python",
   "pygments_lexer": "ipython3",
   "version": "3.9.7"
  }
 },
 "nbformat": 4,
 "nbformat_minor": 5
}
